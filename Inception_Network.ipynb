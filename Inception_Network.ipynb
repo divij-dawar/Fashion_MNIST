{
  "nbformat": 4,
  "nbformat_minor": 0,
  "metadata": {
    "colab": {
      "provenance": [],
      "gpuType": "T4",
      "authorship_tag": "ABX9TyN2bXYpaZuemTtxUUyiNv1h",
      "include_colab_link": true
    },
    "kernelspec": {
      "name": "python3",
      "display_name": "Python 3"
    },
    "language_info": {
      "name": "python"
    },
    "accelerator": "GPU"
  },
  "cells": [
    {
      "cell_type": "markdown",
      "metadata": {
        "id": "view-in-github",
        "colab_type": "text"
      },
      "source": [
        "<a href=\"https://colab.research.google.com/github/divij-dawar/Fashion_MNIST/blob/main/Inception_Network.ipynb\" target=\"_parent\"><img src=\"https://colab.research.google.com/assets/colab-badge.svg\" alt=\"Open In Colab\"/></a>"
      ]
    },
    {
      "cell_type": "code",
      "execution_count": null,
      "metadata": {
        "id": "8Q-3bqsImoaf"
      },
      "outputs": [],
      "source": [
        "#Importing necessary libraries\n",
        "import time\n",
        "import torch\n",
        "import numpy as np\n",
        "import torch.nn as nn\n",
        "from torch.optim import Adam\n",
        "from torch.nn import functional as F\n",
        "from torchvision import datasets, transforms\n",
        "from torch.utils.data import DataLoader\n",
        "from torch import Tensor\n",
        "\n",
        "%matplotlib inline\n",
        "import matplotlib.pyplot as plt\n",
        "import seaborn as sns"
      ]
    },
    {
      "cell_type": "code",
      "source": [
        "transform = transforms.Compose([\n",
        "    transforms.ToTensor(),\n",
        "    transforms.Normalize((0.5,), (0.5,))\n",
        "])\n",
        "\n",
        "train_data = datasets.CIFAR10(root='./data',train=True,download=True, transform=transform)\n",
        "test_data = datasets.CIFAR10(root='./data',train=False,download=True, transform=transform)\n",
        "\n",
        "train_loader = DataLoader(train_data, batch_size = 64, shuffle = True)\n",
        "test_loader = DataLoader(test_data, batch_size = 64, shuffle = False)"
      ],
      "metadata": {
        "id": "zayAE54c1wlD"
      },
      "execution_count": null,
      "outputs": []
    },
    {
      "cell_type": "code",
      "source": [
        "#Classes\n",
        "labels = ('plane', 'car', 'bird', 'cat', 'deer', 'dog', 'frog', 'horse', 'ship', 'truck')"
      ],
      "metadata": {
        "id": "a0_o5r-d3kXp"
      },
      "execution_count": null,
      "outputs": []
    },
    {
      "cell_type": "code",
      "source": [
        "#Loading GPU\n",
        "device = 'cuda' if torch.cuda.is_available() else 'cpu'\n",
        "print(f\"Using {device} device\")"
      ],
      "metadata": {
        "colab": {
          "base_uri": "https://localhost:8080/"
        },
        "id": "5xxiQWzP9LbS",
        "outputId": "0e25f500-52d8-4372-d4d9-e5788fbb2dc9"
      },
      "execution_count": null,
      "outputs": [
        {
          "output_type": "stream",
          "name": "stdout",
          "text": [
            "Using cuda device\n"
          ]
        }
      ]
    },
    {
      "cell_type": "code",
      "source": [
        "# Convolutional Block of the Model\n",
        "class ConvBlock(nn.Module):\n",
        "  def __init__(self, in_channels, out_channels,kernel_size,stride, padding, **kwargs):\n",
        "    super(ConvBlock, self).__init__()\n",
        "    self.conv = nn.Conv2d(in_channels,out_channels,kernel_size,stride,padding,**kwargs)\n",
        "    self.bn = nn.BatchNorm2d(out_channels,eps=0.001)\n",
        "    self.activation = nn.ReLU()\n",
        "\n",
        "  def forward(self,x: Tensor) -> Tensor :\n",
        "      x = self.conv(x)\n",
        "      x = self.bn(x)\n",
        "      x = self.activation(x)\n",
        "\n",
        "      return x"
      ],
      "metadata": {
        "id": "RV5_O6IEFUOh"
      },
      "execution_count": null,
      "outputs": []
    },
    {
      "cell_type": "code",
      "source": [
        "# Inception Block of the Model\n",
        "class InceptionBlock(nn.Module):\n",
        "  def __init__(self,in_channels: int, filters_1x1, filters_3x3, filters_5x5,\n",
        "               reduced_filters_3x3, reduced_filters_5x5,out_channels):\n",
        "    super(InceptionBlock, self).__init__()\n",
        "    self.branch1 = nn.Sequential(\n",
        "        ConvBlock(in_channels, filters_1x1, kernel_size=1, stride=1, padding=0)\n",
        "    )\n",
        "\n",
        "    self.branch2 = nn.Sequential(\n",
        "        ConvBlock(in_channels, reduced_filters_3x3, kernel_size=1, stride=1,padding=0),\n",
        "        ConvBlock(reduced_filters_3x3, filters_3x3, kernel_size=3, stride=1,padding=1)\n",
        "    )\n",
        "\n",
        "    self.branch3 = nn.Sequential(\n",
        "        ConvBlock(in_channels, reduced_filters_5x5, kernel_size=1,stride=1, padding=0),\n",
        "        ConvBlock(reduced_filters_5x5, filters_5x5, kernel_size=5,stride=1, padding=2)\n",
        "    )\n",
        "\n",
        "    self.branch4 = nn.Sequential(\n",
        "        nn.MaxPool2d(kernel_size=3,stride=1,padding=1),\n",
        "        ConvBlock(in_channels, out_channels, kernel_size=1, stride=1,padding=0)\n",
        "    )\n",
        "\n",
        "  def forward(self, x: torch.Tensor)-> torch.Tensor:\n",
        "    out1 = self.branch1(x)\n",
        "    out2 = self.branch2(x)\n",
        "    out3 = self.branch3(x)\n",
        "    out4 = self.branch4(x)\n",
        "\n",
        "    output = torch.cat([out1, out2, out3, out4], 1)\n",
        "    return output"
      ],
      "metadata": {
        "id": "RQs79F-b8cbY"
      },
      "execution_count": null,
      "outputs": []
    },
    {
      "cell_type": "code",
      "source": [
        "# Auxiliary Netowork Architecture\n",
        "class AuxiliaryClassifier(nn.Module):\n",
        "  def __init__(self,in_channels):\n",
        "    super(AuxiliaryClassifier,self).__init__()\n",
        "    self.Adaptive_Avg = nn.AdaptiveAvgPool2d(output_size=(4,4))\n",
        "    self.conv = nn.Conv2d(in_channels,out_channels=128,kernel_size=(1,1),stride=(1,1),padding=(0,0))\n",
        "    self.activation = nn.ReLU()\n",
        "\n",
        "    self.fc1 = nn.Linear(in_features=2048,out_features=1024)\n",
        "    self.DropOut = nn.Dropout(0.7)\n",
        "    self.fc2 = nn.Linear(in_features=1024,out_features=10)\n",
        "\n",
        "  def forward(self,x: Tensor):\n",
        "    x = self.Adaptive_Avg(x)\n",
        "    x = self.conv(x)\n",
        "    x = self.activation(x)\n",
        "\n",
        "    x = torch.flatten(x,1)\n",
        "\n",
        "    x = self.fc1(x)\n",
        "    x = self.activation(x)\n",
        "    x = self.DropOut(x)\n",
        "    x = self.fc2(x)\n",
        "\n",
        "    return x"
      ],
      "metadata": {
        "id": "EC1uHRjkKyyi"
      },
      "execution_count": null,
      "outputs": []
    },
    {
      "cell_type": "code",
      "source": [
        "# Model Architecture\n",
        "class NeuralNetwork(nn.Module):\n",
        "  def __init__ (self,num_classes=10):\n",
        "    super(NeuralNetwork,self).__init__()\n",
        "\n",
        "    self.conv1 = ConvBlock(3,64,kernel_size=7,stride=2,padding=3)\n",
        "    self.pooling1 = nn.MaxPool2d(3,stride=2,padding=0,ceil_mode=True)\n",
        "    self.conv2 = ConvBlock(64,64, kernel_size=1, stride=1, padding=0)\n",
        "    self.conv3 = ConvBlock(64,192, kernel_size=3, stride=1, padding=1)\n",
        "    self.pooling2 = nn.MaxPool2d(3, stride=2, padding=0, ceil_mode=True)\n",
        "\n",
        "    self.inception3A = InceptionBlock(in_channels=192,\n",
        "                                      filters_1x1 = 64,\n",
        "                                      reduced_filters_3x3=96,\n",
        "                                      filters_3x3 = 128,\n",
        "                                      reduced_filters_5x5 = 16,\n",
        "                                      filters_5x5 = 32,\n",
        "                                      out_channels = 32)\n",
        "\n",
        "    self.inception3B = InceptionBlock(in_channels=256,\n",
        "                                      filters_1x1 = 128,\n",
        "                                      reduced_filters_3x3=128,\n",
        "                                      filters_3x3=192,\n",
        "                                      reduced_filters_5x5=32,\n",
        "                                      filters_5x5=96,\n",
        "                                      out_channels=64)\n",
        "\n",
        "    self.pooling4 = nn.MaxPool2d(3,stride=2,padding=0,ceil_mode=True)\n",
        "\n",
        "    self.inception4A = InceptionBlock(in_channels=480,\n",
        "                                      filters_1x1=192,\n",
        "                                      reduced_filters_3x3=96,\n",
        "                                      filters_3x3=208,\n",
        "                                      reduced_filters_5x5 = 16,\n",
        "                                      filters_5x5 = 48,\n",
        "                                      out_channels=64)\n",
        "\n",
        "    self.inception4B = InceptionBlock(in_channels=512,\n",
        "                                        filters_1x1=160,\n",
        "                                        reduced_filters_3x3=112,\n",
        "                                        filters_3x3=224,\n",
        "                                        reduced_filters_5x5=24,\n",
        "                                        filters_5x5=64,\n",
        "                                        out_channels=64)\n",
        "\n",
        "    self.inception4C = InceptionBlock(in_channels=512,\n",
        "                                      filters_1x1=128,\n",
        "                                      reduced_filters_3x3=128,\n",
        "                                      filters_3x3=256,\n",
        "                                      reduced_filters_5x5 = 24,\n",
        "                                      filters_5x5=64,\n",
        "                                      out_channels=64)\n",
        "\n",
        "    self.inception4D = InceptionBlock(in_channels=512,\n",
        "                                      filters_1x1=112,\n",
        "                                      reduced_filters_3x3=144,\n",
        "                                      filters_3x3=288,\n",
        "                                      reduced_filters_5x5 = 32,\n",
        "                                      filters_5x5=64,\n",
        "                                      out_channels=64)\n",
        "\n",
        "    self.inception4E = InceptionBlock(in_channels=528,\n",
        "                                      filters_1x1=256,\n",
        "                                      reduced_filters_3x3=160,\n",
        "                                      filters_3x3=320,\n",
        "                                      reduced_filters_5x5 = 32,\n",
        "                                      filters_5x5=128,\n",
        "                                      out_channels=128)\n",
        "\n",
        "    self.pooling5 = nn.MaxPool2d(3,stride=1,padding=1,ceil_mode=True)\n",
        "\n",
        "    self.inception5A = InceptionBlock(in_channels=832,\n",
        "                                      filters_1x1=256,\n",
        "                                      reduced_filters_3x3=160,\n",
        "                                      filters_3x3=320,\n",
        "                                      reduced_filters_5x5 = 32,\n",
        "                                      filters_5x5=128,\n",
        "                                      out_channels=128)\n",
        "\n",
        "    self.inception5B = InceptionBlock(in_channels=832,\n",
        "                                      filters_1x1=384,\n",
        "                                      reduced_filters_3x3=192,\n",
        "                                      filters_3x3=284,\n",
        "                                      reduced_filters_5x5 = 48,\n",
        "                                      filters_5x5=128,\n",
        "                                      out_channels=128\n",
        "                                      )\n",
        "\n",
        "    self.pool6 = nn.AdaptiveAvgPool2d((1,1))\n",
        "    self.dropout = nn.Dropout(0.4)\n",
        "    self.fc = nn.Linear(1024,num_classes)\n",
        "\n",
        "    self.auxiliaryA = AuxiliaryClassifier(512)\n",
        "    self.auxiliaryB = AuxiliaryClassifier(528)\n",
        "\n",
        "  def forward(self,x):\n",
        "    x = self.conv1(x)\n",
        "    x = self.pooling1(x)\n",
        "    x = self.conv2(x)\n",
        "    x = self.conv3(x)\n",
        "    x = self.pooling2(x)\n",
        "    x = self.inception3A(x)\n",
        "    x = self.inception3B(x)\n",
        "    x = self.pooling4(x)\n",
        "    x = self.inception4A(x)\n",
        "\n",
        "    aux1 = self.auxiliaryA(x)\n",
        "\n",
        "    x = self.inception4B(x)\n",
        "    x = self.inception4C(x)\n",
        "    x = self.inception4D(x)\n",
        "\n",
        "    aux2 = self.auxiliaryB(x)\n",
        "\n",
        "    x = self.inception4E(x)\n",
        "    x = self.pooling5(x)\n",
        "    x = self.inception5A(x)\n",
        "    x = self.inception5B(x)\n",
        "    x = self.pool6(x)\n",
        "    x = torch.flatten(x,1)\n",
        "    x = self.dropout(x)\n",
        "    x = self.fc(x)\n",
        "\n",
        "    return x, aux1, aux2\n",
        "\n",
        "InceptionNetwork = NeuralNetwork()\n",
        "InceptionNetwork = InceptionNetwork.to(device)"
      ],
      "metadata": {
        "id": "Hpy_KfazC2kG"
      },
      "execution_count": null,
      "outputs": []
    },
    {
      "cell_type": "code",
      "source": [
        "#Setting the Hyperparameters\n",
        "optimizer = Adam(InceptionNetwork.parameters(),lr =0.001)\n",
        "criterion = nn.CrossEntropyLoss()"
      ],
      "metadata": {
        "id": "z0kWFxDz337U"
      },
      "execution_count": null,
      "outputs": []
    },
    {
      "cell_type": "code",
      "source": [
        "epochs = 30\n",
        "\n",
        "#training loop\n",
        "for e in range(epochs):\n",
        "\n",
        "  correct_prediction = 0\n",
        "  running_loss = 0.0\n",
        "  total_images = 0\n",
        "\n",
        "  InceptionNetwork.train()\n",
        "\n",
        "  for images,labels in train_loader:\n",
        "    images, labels = images.to(device) , labels.to(device)\n",
        "\n",
        "    prediction,aux_pred1, aux_pred2 = InceptionNetwork(images)\n",
        "    network_loss = criterion(prediction,labels)\n",
        "    aux_loss1 = criterion(aux_pred1, labels)\n",
        "    aux_loss2 = criterion(aux_pred2, labels)\n",
        "\n",
        "    main_loss = network_loss + (0.3 * aux_loss1) + (0.3 * aux_loss2)\n",
        "\n",
        "    optimizer.backward()\n",
        "    optimizer.zero_grad()\n",
        "    optimizer.step()\n",
        "\n",
        "    running_loss += main_loss.item()\n",
        "\n",
        "    _, predicted = torch.max(prediction,1)\n",
        "    correct_prediction += (predicted==labels).sum().item()\n",
        "    total_images += labels.size(0)\n",
        "\n",
        "  epoch_loss = running_loss / len(train_loader)\n",
        "  epoch_accuracy = correct_prediction / total_images\n",
        "\n",
        "  print(f\"Epoch {e+1}/{epochs}, Loss: {epoch_loss: .4f}, Accuracy : {epoch_accuracy: 3.f}\")"
      ],
      "metadata": {
        "id": "Ce2Mn-O02w96"
      },
      "execution_count": null,
      "outputs": []
    },
    {
      "cell_type": "code",
      "source": [
        "nb_test_examples = 10000\n",
        "correct = 0\n",
        "\n",
        "InceptionNetwork.eval().cuda()\n",
        "\n",
        "#Training loop\n",
        "with  torch.no_grad():\n",
        "    for inputs, labels in test_loader:\n",
        "        inputs, labels = inputs.to(device), labels.to(device)\n",
        "\n",
        "        prediction, _, _ = InceptionNetwork(inputs)\n",
        "\n",
        "\n",
        "        _, predicted_class = torch.max(prediction.data, 1)\n",
        "\n",
        "\n",
        "        correct += (predicted_class == labels).float().sum().item()\n",
        "\n",
        "test_accuracy = correct / nb_test_examples\n",
        "print('Test accuracy: {}'.format(test_accuracy))"
      ],
      "metadata": {
        "id": "gWjw-rQpl2dy"
      },
      "execution_count": null,
      "outputs": []
    }
  ]
}